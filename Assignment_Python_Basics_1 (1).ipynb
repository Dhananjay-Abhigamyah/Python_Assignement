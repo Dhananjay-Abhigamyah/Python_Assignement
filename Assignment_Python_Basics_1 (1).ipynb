{
 "cells": [
  {
   "cell_type": "markdown",
   "id": "bada25a0",
   "metadata": {},
   "source": [
    "####Assignmnet 1 Python Basics "
   ]
  },
  {
   "cell_type": "markdown",
   "id": "ac247cc8",
   "metadata": {},
   "source": [
    "1 Explain the key features of python that makes it a popular choice for programing.\n",
    "\n",
    "Python is a dynamic, high-level, free open source, and interpreted programming language. It supports object-oriented programming as well as procedural-oriented programming.Python is easy and has a simpler syntax along with a very easy and user friendly interface. The most important feature of python is its very versatile where it has operability in various fields and orientations.\n",
    "Features : \n",
    "Free and Open Source\n",
    "Easy to code \n",
    "Easy to Read\n",
    "Object-Oriented Language\n",
    "GUI Programming Support\n",
    "High-Level Language\n",
    "Large Community Support\n",
    "Python is a Portable language\n",
    "Frontend and backend development\n",
    "More than 137000 libraries\n"
   ]
  },
  {
   "cell_type": "markdown",
   "id": "38481a73",
   "metadata": {},
   "source": [
    "2 Describe the role of predefined keywords in Python and provide examples on how they are used in a Program.\n",
    "\n",
    "Key words are predefined words that have a specific meaning in python \n",
    "how to collect key words for any purpose or the clarification \n",
    "help (\"keywords\")\n",
    "keywords are used to create a logic \n",
    "\n",
    "Python Keywords are some predefined and reserved words in Python that have special meanings. Keywords are used to define the syntax of the coding. The keyword cannot be used as an identifier, function, or variable name. All the keywords in Python are written in lowercase except True and False. There are 35 keywords in Python\n"
   ]
  },
  {
   "cell_type": "code",
   "execution_count": 4,
   "id": "13a9bcf8",
   "metadata": {},
   "outputs": [
    {
     "name": "stdout",
     "output_type": "stream",
     "text": [
      "\n",
      "Here is a list of the Python keywords.  Enter any keyword to get more help.\n",
      "\n",
      "False               class               from                or\n",
      "None                continue            global              pass\n",
      "True                def                 if                  raise\n",
      "and                 del                 import              return\n",
      "as                  elif                in                  try\n",
      "assert              else                is                  while\n",
      "async               except              lambda              with\n",
      "await               finally             nonlocal            yield\n",
      "break               for                 not                 \n",
      "\n"
     ]
    }
   ],
   "source": [
    "help (\"keywords\")"
   ]
  },
  {
   "cell_type": "code",
   "execution_count": 5,
   "id": "2e231787",
   "metadata": {},
   "outputs": [
    {
     "name": "stdout",
     "output_type": "stream",
     "text": [
      "greater\n"
     ]
    }
   ],
   "source": [
    "#Examples\n",
    "if 3 > 2: #the use of if key word is used as an example for the same \n",
    "    print (\"greater\") \n"
   ]
  },
  {
   "cell_type": "code",
   "execution_count": 6,
   "id": "31ba3ca3",
   "metadata": {},
   "outputs": [
    {
     "name": "stdout",
     "output_type": "stream",
     "text": [
      "You are not fit\n"
     ]
    }
   ],
   "source": [
    "grade = 7 #use of else statement at the same conditionality. #here the use of elif is shown as an example \n",
    "fit = \"good\" \n",
    "if ((grade >=8) and (fit == \"good\")):\n",
    "    print (\"Your mind is healthy\")\n",
    "else:\n",
    "    print (\"You are not fit\")\n"
   ]
  },
  {
   "cell_type": "markdown",
   "id": "e55fbae2",
   "metadata": {},
   "source": [
    "3 Compare and Contrast mutable and immutable objects in Python. \n",
    "\n",
    "Data types in Python are categorized into mutable and immutable data types. Mutable data type is those whose values can be changed, whereas immutable data type is one in which the values can’t be changed.\n",
    "\n",
    "Mutable Data Type \n",
    "A mutable data type is those whose values can be changed.\n",
    "Example: List, Dictionaries, and Set\n",
    "Immutable Data Type – An immutable data type is one in which the values can’t be changed or altered.\n",
    "Example: String and Tuples\n",
    "\n",
    "Python Lists : #another type of data container is LIST\n",
    "list_container = [1,2,3,4.6,5.2,5,6,7,\"Ajay\",True] #here the square bracket is to be used to  create a list container\n",
    "\n",
    "Python Dictionary\n",
    "Dictionaries are likely the most important and flexible mutable data types in Python.A Python dictionary is a flexible sized collection of key value pairs, where key and value both are Python objects.\n",
    "Example: Dict_1 = {‘first_name’: ‘Amit’, ‘age’: 44, ‘job’:’Professor’}\n",
    "\n",
    "Immutable Data Type\n",
    "Integers (int)\n",
    "Floating Points (float)\n",
    "Strings\n",
    "Tuples\n",
    "Bool\n"
   ]
  },
  {
   "cell_type": "code",
   "execution_count": 7,
   "id": "61618de6",
   "metadata": {},
   "outputs": [],
   "source": [
    "#another type of data container is LIST\n",
    "list_container = [1,2,3,4.6,5.2,5,6,7,\"Ajay\",True] #here the square bracket is to be used to  create a list container"
   ]
  },
  {
   "cell_type": "code",
   "execution_count": 8,
   "id": "81592643",
   "metadata": {},
   "outputs": [
    {
     "data": {
      "text/plain": [
       "[1, 2, 3, 4.6, 5.2, 5, 6, 7, 'Ajay', True]"
      ]
     },
     "execution_count": 8,
     "metadata": {},
     "output_type": "execute_result"
    }
   ],
   "source": [
    "list_container"
   ]
  },
  {
   "cell_type": "code",
   "execution_count": 9,
   "id": "2c3ef931",
   "metadata": {},
   "outputs": [
    {
     "data": {
      "text/plain": [
       "4.6"
      ]
     },
     "execution_count": 9,
     "metadata": {},
     "output_type": "execute_result"
    }
   ],
   "source": [
    "list_container[3]"
   ]
  },
  {
   "cell_type": "code",
   "execution_count": 10,
   "id": "aea8e562",
   "metadata": {},
   "outputs": [
    {
     "data": {
      "text/plain": [
       "7"
      ]
     },
     "execution_count": 10,
     "metadata": {},
     "output_type": "execute_result"
    }
   ],
   "source": [
    "list_container[-3]"
   ]
  },
  {
   "cell_type": "code",
   "execution_count": 11,
   "id": "14f7bd68",
   "metadata": {},
   "outputs": [
    {
     "data": {
      "text/plain": [
       "list"
      ]
     },
     "execution_count": 11,
     "metadata": {},
     "output_type": "execute_result"
    }
   ],
   "source": [
    "type (list_container)"
   ]
  },
  {
   "cell_type": "code",
   "execution_count": 12,
   "id": "7c321ad3",
   "metadata": {},
   "outputs": [],
   "source": [
    "#mutability means change what if I want to replace ajay by vijay \n",
    "list_container[8] =\" Vijay\""
   ]
  },
  {
   "cell_type": "code",
   "execution_count": 13,
   "id": "24e64b17",
   "metadata": {},
   "outputs": [
    {
     "data": {
      "text/plain": [
       "[1, 2, 3, 4.6, 5.2, 5, 6, 7, ' Vijay', True]"
      ]
     },
     "execution_count": 13,
     "metadata": {},
     "output_type": "execute_result"
    }
   ],
   "source": [
    "list_container #this is to explain on how is a list_container modified being an example of mutability. "
   ]
  },
  {
   "cell_type": "markdown",
   "id": "ca1f0691",
   "metadata": {},
   "source": [
    "4 Discuss different types of operators in python and provide examples on how they are used. \n",
    "\n",
    "Operators are of multiple types and thus we will be looking at the same with examples \n",
    "#arithmetic operators are a like + - / * \n",
    "#in this arithmetic operator just to get the remainder during division a modulus operator is used which follows the symbol %\n",
    "Code :\n",
    "22%4\n",
    "2*2 #is multiply \n",
    "4/3 #this is normal division operator \n",
    "4//3  #this happens to be a floor operator where the entire answer is converted to the nearest lower valu as in 1.3 is converted to 1\n",
    "\n",
    "Comparison operators used to compare numbers or tables \n",
    "2>=1\n",
    "2==2 #here one = means assigning a variable and == means comparing two values for the same \n",
    "12!=5 #!= THIS IS used as not equal to something\n",
    "\n",
    "logical operators \n",
    "There are two types of logical operators thay are \n",
    "and \n",
    "or \n",
    "AND Operator \n",
    "TRUE(1) and TRUE(1) = 1  \n",
    "TRUE(1) and FALSE (0) = 0\n",
    "FALSE(0) and TRUE (1) = 0\n",
    "FALSE (0) and FALSE (0) = 0\n",
    "\n",
    "\n",
    "OR Operator \n",
    "AND Operator \n",
    "TRUE(1) or TRUE(1) = 1  \n",
    "TRUE(1) or FALSE (0) = 1\n",
    "FALSE(0) or TRUE (1) = 1\n",
    "FALSE (0) or FALSE (0) = 0\n",
    "\n",
    "\n",
    "not operator \n",
    "not True \n",
    "False\n",
    "\n",
    "\n",
    "assignment opertator\n",
    "A=98 #this is where we are assisgning a value to the Variable A \n",
    "\n",
    "\n",
    "membership operator \n",
    "in \n",
    "#not in \n",
    "D = \"Dhananjay\" \n",
    "\"Dh\" in D\n",
    "True \n",
    "\n",
    "\n",
    "identity operator >> compares the location of two objects/variables \n",
    "a = 100 #here a is pointing to a different memory block and b to a different memory block thus the identity conditions do not satisfy\n",
    "b = 200\n",
    "a is b \n",
    "False\n",
    "\n",
    "bit wise operator \n",
    "to find the bit or binary of any number \n",
    "In bit wise operator the operators are &, or, negation  \n",
    "and >> &\n",
    "or >> \n",
    "negation >> ~ (tilda)\n",
    "bin (98)\n",
    "'0b1100010'\n"
   ]
  },
  {
   "cell_type": "code",
   "execution_count": 14,
   "id": "18d15d29",
   "metadata": {},
   "outputs": [
    {
     "data": {
      "text/plain": [
       "4"
      ]
     },
     "execution_count": 14,
     "metadata": {},
     "output_type": "execute_result"
    }
   ],
   "source": [
    "2*2 #is multiply \n"
   ]
  },
  {
   "cell_type": "code",
   "execution_count": 15,
   "id": "b8a771f0",
   "metadata": {},
   "outputs": [
    {
     "data": {
      "text/plain": [
       "1.3333333333333333"
      ]
     },
     "execution_count": 15,
     "metadata": {},
     "output_type": "execute_result"
    }
   ],
   "source": [
    "4/3 #this is normal division operator \n"
   ]
  },
  {
   "cell_type": "code",
   "execution_count": 16,
   "id": "8bbd1f84",
   "metadata": {},
   "outputs": [
    {
     "data": {
      "text/plain": [
       "1"
      ]
     },
     "execution_count": 16,
     "metadata": {},
     "output_type": "execute_result"
    }
   ],
   "source": [
    "4//3  #this happens to be a floor operator where the entire answer is converted to the nearest lower valu as in 1.3 is converted to 1\n"
   ]
  },
  {
   "cell_type": "code",
   "execution_count": 17,
   "id": "ab184103",
   "metadata": {},
   "outputs": [
    {
     "data": {
      "text/plain": [
       "True"
      ]
     },
     "execution_count": 17,
     "metadata": {},
     "output_type": "execute_result"
    }
   ],
   "source": [
    "2>=1\n"
   ]
  },
  {
   "cell_type": "code",
   "execution_count": 18,
   "id": "7eef6304",
   "metadata": {},
   "outputs": [
    {
     "data": {
      "text/plain": [
       "True"
      ]
     },
     "execution_count": 18,
     "metadata": {},
     "output_type": "execute_result"
    }
   ],
   "source": [
    "2==2 #here one = means assigning a variable and == means comparing two values for the same \n"
   ]
  },
  {
   "cell_type": "code",
   "execution_count": 19,
   "id": "c0c3b8ed",
   "metadata": {},
   "outputs": [
    {
     "data": {
      "text/plain": [
       "True"
      ]
     },
     "execution_count": 19,
     "metadata": {},
     "output_type": "execute_result"
    }
   ],
   "source": [
    "12!=5 #!= THIS IS used as not equal to something\n"
   ]
  },
  {
   "cell_type": "code",
   "execution_count": 20,
   "id": "a30410ca",
   "metadata": {},
   "outputs": [
    {
     "data": {
      "text/plain": [
       "False"
      ]
     },
     "execution_count": 20,
     "metadata": {},
     "output_type": "execute_result"
    }
   ],
   "source": [
    "\n",
    "#not operator \n",
    "not True "
   ]
  },
  {
   "cell_type": "code",
   "execution_count": 23,
   "id": "9b5c14e3",
   "metadata": {},
   "outputs": [],
   "source": [
    "#assignment opertator\n",
    "A=98 #this is where we are assisgning a value to the Variable A \n"
   ]
  },
  {
   "cell_type": "code",
   "execution_count": 24,
   "id": "8c18d0de",
   "metadata": {},
   "outputs": [
    {
     "data": {
      "text/plain": [
       "98"
      ]
     },
     "execution_count": 24,
     "metadata": {},
     "output_type": "execute_result"
    }
   ],
   "source": [
    "A"
   ]
  },
  {
   "cell_type": "code",
   "execution_count": 25,
   "id": "909dd83c",
   "metadata": {},
   "outputs": [
    {
     "data": {
      "text/plain": [
       "True"
      ]
     },
     "execution_count": 25,
     "metadata": {},
     "output_type": "execute_result"
    }
   ],
   "source": [
    "#membership operator \n",
    "#in \n",
    "#not in \n",
    "D = \"Dhananjay\" \n",
    "\"Dh\" in D\n"
   ]
  },
  {
   "cell_type": "code",
   "execution_count": 26,
   "id": "627dc6ed",
   "metadata": {},
   "outputs": [
    {
     "data": {
      "text/plain": [
       "False"
      ]
     },
     "execution_count": 26,
     "metadata": {},
     "output_type": "execute_result"
    }
   ],
   "source": [
    "#identity operator >> compares the location of two objects/variables \n",
    "a = 100 #here a is pointing to a different memory block and b to a different memory block thus the identity conditions do not satisfy\n",
    "b = 200\n",
    "a is b "
   ]
  },
  {
   "cell_type": "code",
   "execution_count": 27,
   "id": "d2d8d2b8",
   "metadata": {},
   "outputs": [
    {
     "data": {
      "text/plain": [
       "'0b1100010'"
      ]
     },
     "execution_count": 27,
     "metadata": {},
     "output_type": "execute_result"
    }
   ],
   "source": [
    "bin (98)\n"
   ]
  },
  {
   "cell_type": "code",
   "execution_count": 28,
   "id": "8ea4a8be",
   "metadata": {},
   "outputs": [
    {
     "data": {
      "text/plain": [
       "2"
      ]
     },
     "execution_count": 28,
     "metadata": {},
     "output_type": "execute_result"
    }
   ],
   "source": [
    "18 & 3 #bit wise & operatr "
   ]
  },
  {
   "cell_type": "code",
   "execution_count": 29,
   "id": "487df649",
   "metadata": {},
   "outputs": [
    {
     "data": {
      "text/plain": [
       "-4"
      ]
     },
     "execution_count": 29,
     "metadata": {},
     "output_type": "execute_result"
    }
   ],
   "source": [
    "#bit wise negation \n",
    "~3 #here negation will give one value lower to this with a minus symbol "
   ]
  },
  {
   "cell_type": "code",
   "execution_count": 31,
   "id": "c0e5e3c8",
   "metadata": {},
   "outputs": [
    {
     "data": {
      "text/plain": [
       "280"
      ]
     },
     "execution_count": 31,
     "metadata": {},
     "output_type": "execute_result"
    }
   ],
   "source": [
    "#bit wise shift operator \n",
    "#shift operator is of two type left shit and the right shift \n",
    "#symbol of left shift is 25 << 35 \n",
    "#symbol of right shift is 25 >> 35\n",
    "#shift operator shifts the bits by left or right \n",
    "35<<3"
   ]
  },
  {
   "cell_type": "markdown",
   "id": "eeb9b64c",
   "metadata": {},
   "source": [
    "5 Explain the concept of type casting with examples.\n",
    "\n",
    "mathematical operations are done if the data type happens to be the same. \n",
    "but there are inherent rules that can be followed for the same wherein we can get it modified and segregated.\n",
    "\n",
    "\"2\"+3 #this will through an error as the types of the variables are different and thus the issue originates \n",
    "#to bring a resoluton to the same we use something called type casting \n",
    "\n",
    "Type casting or Type conversion >> process of changing the data type of a variable or an object is called Type conversion. \n",
    "#why ? while executing operations there can be a mismatch between the operators thus the Type casting is used to rectify the issue \n",
    "and thus carry on with the operations \n",
    "\n",
    "Type casting is of two types in Python \n",
    "Implicit and Explicit \n",
    "everything above is an example of the explicit type casting \n",
    "python understands the data type on its own and its not like other programing languages like JAVA where the variables/objects \n",
    "data type is to be declared explicitly \n",
    "thus this inherent capability of Python to understand the variable and cast it at the start is called Implicit Type casting \n",
    "\n"
   ]
  },
  {
   "cell_type": "code",
   "execution_count": 32,
   "id": "c17b7f53",
   "metadata": {},
   "outputs": [],
   "source": [
    "#adding strings \n",
    "a = 5\n",
    "b= \"Dhanajay\"\n",
    "c = \" Pandey\""
   ]
  },
  {
   "cell_type": "code",
   "execution_count": 33,
   "id": "e3a5529a",
   "metadata": {},
   "outputs": [
    {
     "data": {
      "text/plain": [
       "'Dhanajay Pandey'"
      ]
     },
     "execution_count": 33,
     "metadata": {},
     "output_type": "execute_result"
    }
   ],
   "source": [
    "b+c #string concatinatin is adding the string to your left and the right "
   ]
  },
  {
   "cell_type": "code",
   "execution_count": 34,
   "id": "f0859075",
   "metadata": {},
   "outputs": [
    {
     "ename": "TypeError",
     "evalue": "unsupported operand type(s) for +: 'int' and 'str'",
     "output_type": "error",
     "traceback": [
      "\u001b[1;31m---------------------------------------------------------------------------\u001b[0m",
      "\u001b[1;31mTypeError\u001b[0m                                 Traceback (most recent call last)",
      "Cell \u001b[1;32mIn[34], line 1\u001b[0m\n\u001b[1;32m----> 1\u001b[0m a\u001b[38;5;241m+\u001b[39mb\n",
      "\u001b[1;31mTypeError\u001b[0m: unsupported operand type(s) for +: 'int' and 'str'"
     ]
    }
   ],
   "source": [
    "a+b #here a is an interger and b is a string and thus this cannot be operated with out type casting "
   ]
  },
  {
   "cell_type": "code",
   "execution_count": 36,
   "id": "b008862e",
   "metadata": {},
   "outputs": [
    {
     "data": {
      "text/plain": [
       "'5'"
      ]
     },
     "execution_count": 36,
     "metadata": {},
     "output_type": "execute_result"
    }
   ],
   "source": [
    "str (a)"
   ]
  },
  {
   "cell_type": "code",
   "execution_count": 37,
   "id": "2234179b",
   "metadata": {},
   "outputs": [
    {
     "ename": "TypeError",
     "evalue": "unsupported operand type(s) for +: 'int' and 'str'",
     "output_type": "error",
     "traceback": [
      "\u001b[1;31m---------------------------------------------------------------------------\u001b[0m",
      "\u001b[1;31mTypeError\u001b[0m                                 Traceback (most recent call last)",
      "Cell \u001b[1;32mIn[37], line 1\u001b[0m\n\u001b[1;32m----> 1\u001b[0m a\u001b[38;5;241m+\u001b[39mb\n",
      "\u001b[1;31mTypeError\u001b[0m: unsupported operand type(s) for +: 'int' and 'str'"
     ]
    }
   ],
   "source": [
    "a+b"
   ]
  },
  {
   "cell_type": "code",
   "execution_count": 38,
   "id": "747b337a",
   "metadata": {},
   "outputs": [],
   "source": [
    "a = 5\n",
    "b= \"5\"\n",
    "c = \" Pandey\""
   ]
  },
  {
   "cell_type": "code",
   "execution_count": 39,
   "id": "97719103",
   "metadata": {},
   "outputs": [
    {
     "data": {
      "text/plain": [
       "5"
      ]
     },
     "execution_count": 39,
     "metadata": {},
     "output_type": "execute_result"
    }
   ],
   "source": [
    "int (b)"
   ]
  },
  {
   "cell_type": "code",
   "execution_count": 41,
   "id": "1dc459a2",
   "metadata": {},
   "outputs": [
    {
     "data": {
      "text/plain": [
       "10"
      ]
     },
     "execution_count": 41,
     "metadata": {},
     "output_type": "execute_result"
    }
   ],
   "source": [
    "a+ int (b) #example and errors on type casing "
   ]
  },
  {
   "cell_type": "markdown",
   "id": "28f55354",
   "metadata": {},
   "source": [
    "6 How do conditional statements work in Python. \n",
    "\n",
    "\n",
    "conditional statement >> if the day is sunny will play cricket \n",
    "I will keep checking all the dishes in a buffet \n",
    "loop statement >> I will keep checking on dishes until all the dishes in the buffet are over \n",
    "break statements >> I will check out all the dishes until I get biryani \n",
    "############## CONDITIONAL STATEMENTS ##############\n",
    "conditional statements helps you to code based on some pre conditions\n",
    "the examples for the usages of the Conditional statement \n",
    "if\n",
    "if-else\n",
    "if-elif(elseif)-else\n",
    "nested if-else"
   ]
  },
  {
   "cell_type": "code",
   "execution_count": 42,
   "id": "6ec07b22",
   "metadata": {},
   "outputs": [
    {
     "name": "stdout",
     "output_type": "stream",
     "text": [
      "Number is greater than 0\n"
     ]
    }
   ],
   "source": [
    "a = 100 \n",
    "if a > 0:\n",
    "    print (\"Number is greater than 0\")"
   ]
  },
  {
   "cell_type": "code",
   "execution_count": 44,
   "id": "f8c390a5",
   "metadata": {},
   "outputs": [],
   "source": [
    "a = 100 \n",
    "if a < 0: #since this condition is not satisfoed the code below will not be executed at all \n",
    "    print (\"Number is greater than 0\")"
   ]
  },
  {
   "cell_type": "code",
   "execution_count": 45,
   "id": "e54413ea",
   "metadata": {},
   "outputs": [
    {
     "name": "stdout",
     "output_type": "stream",
     "text": [
      "I will play cricket\n"
     ]
    }
   ],
   "source": [
    "weather = \"rainy\" #one equal is to assign a variable \n",
    "if weather == \"rainy\": #two == is to compare stating its equal to \n",
    "    print (\"I will play cricket\")"
   ]
  },
  {
   "cell_type": "code",
   "execution_count": 46,
   "id": "c8347d04",
   "metadata": {},
   "outputs": [],
   "source": [
    "weather = \"sunny\" #one equal is to assign a variable \n",
    "if weather == \"rainy\": #two == is to compare stating its equal to \n",
    "    print (\"I will play cricket\") #will not execute as the condition is not satisfied "
   ]
  },
  {
   "cell_type": "code",
   "execution_count": 47,
   "id": "a08d0ac6",
   "metadata": {},
   "outputs": [
    {
     "name": "stdout",
     "output_type": "stream",
     "text": [
      "number is even\n"
     ]
    }
   ],
   "source": [
    "#in real terms or life decisions are made based on multiple consitions \n",
    "#Example \n",
    "#If the weather is sunny or not rainy and I have the kit I will go to play cricket. \n",
    "a = 42\n",
    "if (a %2 ==0):\n",
    "    print (\"number is even\")"
   ]
  },
  {
   "cell_type": "code",
   "execution_count": 48,
   "id": "277c52b1",
   "metadata": {},
   "outputs": [
    {
     "name": "stdout",
     "output_type": "stream",
     "text": [
      "number is even\n"
     ]
    }
   ],
   "source": [
    "a = 42\n",
    "if ((a %2 ==0) and (a>=2)): #here remember and is a logical operator and & is a bit wise operator \n",
    "    print (\"number is even\")"
   ]
  },
  {
   "cell_type": "code",
   "execution_count": 49,
   "id": "35ce68f6",
   "metadata": {},
   "outputs": [
    {
     "name": "stdout",
     "output_type": "stream",
     "text": [
      "Your mind is healthy\n"
     ]
    }
   ],
   "source": [
    "grade = 8 \n",
    "fit = \"good\" \n",
    "if ((grade >=8) and (fit == \"good\")):\n",
    "    print (\"Your mind is healthy\")\n",
    "else:\n",
    "    print (\"You are not fit\")"
   ]
  },
  {
   "cell_type": "code",
   "execution_count": 50,
   "id": "74ad01e4",
   "metadata": {},
   "outputs": [
    {
     "name": "stdout",
     "output_type": "stream",
     "text": [
      "You are not fit\n"
     ]
    }
   ],
   "source": [
    "#execution of the if else condition in a single pair of the code\n",
    "#feels happy to write a code finally \n",
    "#Shiva I bow my head that you have grabnted this opportuny to me Thanks a lot \n",
    "\n",
    "\n",
    "### Execute the if block if the consition if true, if not execute the else block. \n",
    "grade = 7 #use of else statement at the same conditionality. \n",
    "fit = \"good\" \n",
    "if ((grade >=8) and (fit == \"good\")):\n",
    "    print (\"Your mind is healthy\")\n",
    "else:\n",
    "    print (\"You are not fit\")"
   ]
  },
  {
   "cell_type": "code",
   "execution_count": 51,
   "id": "9da32f9b",
   "metadata": {},
   "outputs": [
    {
     "name": "stdout",
     "output_type": "stream",
     "text": [
      "odd\n"
     ]
    }
   ],
   "source": [
    "num = 45\n",
    "if num % 2 == 0: #the condition means if 41 gets divided by 0 and the remainder happens to be == equal to 0 only than print even \n",
    "    #else print odd\n",
    "    print (\"even\")\n",
    "else:\n",
    "    print (\"odd\")"
   ]
  },
  {
   "cell_type": "code",
   "execution_count": 52,
   "id": "8a563abb",
   "metadata": {},
   "outputs": [
    {
     "name": "stdout",
     "output_type": "stream",
     "text": [
      "This block will be executed if a is greater than 100\n"
     ]
    }
   ],
   "source": [
    "a = 120\n",
    "if a > 100:\n",
    "    print (\"This block will be executed if a is greater than 100\")\n",
    "elif a < 100:\n",
    "    print (\"This blosk will be executed if a is lesser than 100\")\n",
    "else:\n",
    "    print (\"The number is equal to 100\")"
   ]
  },
  {
   "cell_type": "code",
   "execution_count": 53,
   "id": "e3e09517",
   "metadata": {},
   "outputs": [
    {
     "name": "stdout",
     "output_type": "stream",
     "text": [
      "grade D\n"
     ]
    }
   ],
   "source": [
    "score = 30\n",
    "if score > 90:\n",
    "    print (\"grade A\")\n",
    "elif 80<=score<90:\n",
    "    print  (\"grade B\")\n",
    "elif 70<=score<80:\n",
    "    print  (\"grade C\")\n",
    "else:\n",
    "    print  (\"grade D\")"
   ]
  },
  {
   "cell_type": "code",
   "execution_count": 54,
   "id": "858f163e",
   "metadata": {},
   "outputs": [
    {
     "name": "stdout",
     "output_type": "stream",
     "text": [
      "x is greater than 5 and y is less than 5\n"
     ]
    }
   ],
   "source": [
    "#nested if else \n",
    "x = 6 \n",
    "y = 2\n",
    "if x > 5:\n",
    "    if y > 5:\n",
    "        print (\"both x nd y are greater then 5\")\n",
    "    else:\n",
    "        print (\"x is greater than 5 and y is less than 5\")"
   ]
  },
  {
   "cell_type": "code",
   "execution_count": 55,
   "id": "c0819e0d",
   "metadata": {},
   "outputs": [
    {
     "name": "stdout",
     "output_type": "stream",
     "text": [
      "x is not greater than 5\n"
     ]
    }
   ],
   "source": [
    "#nested if else >> you can have multiple if else inside if else \n",
    "x = 2\n",
    "y = 2\n",
    "if x > 5:\n",
    "    if y > 5:\n",
    "        print (\"both x nd y are greater then 5\")\n",
    "    else:\n",
    "        print (\"x is greater than 5 and y is less than 5\")\n",
    "else: \n",
    "    print (\"x is not greater than 5\")"
   ]
  },
  {
   "cell_type": "code",
   "execution_count": 56,
   "id": "65f374f7",
   "metadata": {},
   "outputs": [
    {
     "name": "stdout",
     "output_type": "stream",
     "text": [
      "enter a number98\n",
      "number is less than 100 and posotive number\n"
     ]
    }
   ],
   "source": [
    "a = int(input (\"enter a number\"))\n",
    "if (a >= 100):\n",
    "    print (\"number is greater than 100\")\n",
    "elif 0<=a<100:\n",
    "    print (\"number is less than 100 and posotive number\")\n",
    "    "
   ]
  },
  {
   "cell_type": "markdown",
   "id": "4d2b86af",
   "metadata": {},
   "source": [
    "7 Describe different types of loops and their use cases. \n",
    "A loop is a programming structure that repeats a sequence of instructions until a specific condition is met. Loops allow you to repeat a process over and over without having to write the same (potentially long) instructions each time you want your program to perform a task.\n",
    "\n",
    "Two major types of loops are FOR LOOPS and WHILE LOOPS. A For loop will run a preset number of times whereas a While loop will run a variable number of times.\n",
    "\n"
   ]
  },
  {
   "cell_type": "code",
   "execution_count": 57,
   "id": "450b3d93",
   "metadata": {},
   "outputs": [
    {
     "name": "stdout",
     "output_type": "stream",
     "text": [
      "1\n",
      "2\n",
      "3\n",
      "4\n",
      "5\n",
      "6\n"
     ]
    }
   ],
   "source": [
    "n = 7\n",
    "i = 1\n",
    "while i < n :\n",
    "    print (i)\n",
    "    i = i+1\n",
    "    "
   ]
  },
  {
   "cell_type": "code",
   "execution_count": 58,
   "id": "86abe62d",
   "metadata": {},
   "outputs": [
    {
     "name": "stdout",
     "output_type": "stream",
     "text": [
      "1\n",
      "2\n",
      "3\n",
      "4\n",
      "5\n"
     ]
    }
   ],
   "source": [
    "for i in range(1, 6):\n",
    "    print(i)"
   ]
  },
  {
   "cell_type": "code",
   "execution_count": null,
   "id": "a17efa49",
   "metadata": {},
   "outputs": [
    {
     "name": "stdout",
     "output_type": "stream",
     "text": [
      "Enter a positive integer to calculate its factorial (or -1 to exit): 0\n",
      "The factorial of 0 is 1\n"
     ]
    }
   ],
   "source": [
    "while True:\n",
    "    num = int(input(\"Enter a positive integer to calculate its factorial (or -1 to exit): \"))\n",
    "    \n",
    "    if num == -1:\n",
    "        print(\"Exiting...\")\n",
    "        break\n",
    "    elif num < 0:\n",
    "        print(\"Please enter a positive integer.\")\n",
    "        continue\n",
    "\n",
    "    factorial = 1\n",
    "\n",
    "    for i in range(1, num + 1):\n",
    "        factorial *= i\n",
    "\n",
    "    print(f\"The factorial of {num} is {factorial}\")"
   ]
  },
  {
   "cell_type": "code",
   "execution_count": null,
   "id": "5997a5b1",
   "metadata": {},
   "outputs": [],
   "source": []
  }
 ],
 "metadata": {
  "kernelspec": {
   "display_name": "Python 3 (ipykernel)",
   "language": "python",
   "name": "python3"
  },
  "language_info": {
   "codemirror_mode": {
    "name": "ipython",
    "version": 3
   },
   "file_extension": ".py",
   "mimetype": "text/x-python",
   "name": "python",
   "nbconvert_exporter": "python",
   "pygments_lexer": "ipython3",
   "version": "3.11.5"
  }
 },
 "nbformat": 4,
 "nbformat_minor": 5
}
